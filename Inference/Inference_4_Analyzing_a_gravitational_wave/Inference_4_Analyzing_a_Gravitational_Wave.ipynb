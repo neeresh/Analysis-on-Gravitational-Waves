{
 "cells": [
  {
   "cell_type": "code",
   "execution_count": 1,
   "id": "e754fb78",
   "metadata": {},
   "outputs": [
    {
     "data": {
      "text/html": [
       "<style>.container { width:100% !important; }</style>"
      ],
      "text/plain": [
       "<IPython.core.display.HTML object>"
      ]
     },
     "metadata": {},
     "output_type": "display_data"
    }
   ],
   "source": [
    "from IPython.display import display, HTML\n",
    "display(HTML(\"<style>.container { width:100% !important; }</style>\"))"
   ]
  },
  {
   "cell_type": "code",
   "execution_count": 2,
   "id": "7844b1be",
   "metadata": {},
   "outputs": [],
   "source": [
    "# Importing required libraries\n",
    "import os\n",
    "from IPython.display import Image\n",
    "from IPython.core.display import HTML"
   ]
  },
  {
   "cell_type": "markdown",
   "id": "48b0cdc4",
   "metadata": {},
   "source": [
    "**To analyze a gravitational wave, we need to provide a prior, a model, and data settings in our configuration file. These settings can all be put into a single file or split up into multiple files, all of which are provided via the \"--config-file\" option. We split up the configuration file upto 3 files:**"
   ]
  },
  {
   "cell_type": "markdown",
   "id": "43d30b09",
   "metadata": {},
   "source": [
    "**gw150914_like.ini -> Specifices the model we will use, and the parameters that will be varied and their priors. This is the configuration file you would use to analyze signals like GW150914.**"
   ]
  },
  {
   "cell_type": "markdown",
   "id": "bba67d6e",
   "metadata": {},
   "source": [
    "**emcee_pt-gw150914_like.ini -> Specifies sampler settings. In this case, we are using the emcee_pt sampler.**"
   ]
  },
  {
   "cell_type": "markdown",
   "id": "682372df",
   "metadata": {},
   "source": [
    "**data.ini -> specifies the settings for lodaing the gravitational-wave data.**"
   ]
  },
  {
   "cell_type": "markdown",
   "id": "87b4227a",
   "metadata": {},
   "source": [
    "# Determining analysis time duration"
   ]
  },
  {
   "cell_type": "markdown",
   "id": "218bc5a1",
   "metadata": {},
   "source": [
    "**Why did we use -8 and +2 for the analysis times? <br> The discrete inner product treats the data as if it were cyclic. If we try to filter a model waveform that is longer (starting from the low-frequency-cutoff) than the analysis duration, it will wrap around to the beginning.<br>For example, if we used an analysis time of 4s, but a waveform is 5s long, the last second of the waveform will wrap around to lay on top of the first second of the segment. To avoid this, we need to analyze a segment that is longer than the longest possible waveform admitted by our prior plus our uncertainty in the trigger time (\n",
    "s). In this case, our longest waveform is \n",
    ". We can check the duration of this waveform using get_waveform_filter_length_in_time:**"
   ]
  },
  {
   "cell_type": "code",
   "execution_count": 3,
   "id": "b0d64b28",
   "metadata": {},
   "outputs": [
    {
     "name": "stderr",
     "output_type": "stream",
     "text": [
      "PyCBC.libutils: pkg-config call failed, setting NO_PKGCONFIG=1\n"
     ]
    },
    {
     "data": {
      "text/plain": [
       "array(7.14267385)"
      ]
     },
     "execution_count": 3,
     "metadata": {},
     "output_type": "execute_result"
    }
   ],
   "source": [
    "from pycbc import waveform\n",
    "\n",
    "waveform.get_waveform_filter_length_in_time(approximant='IMRPhenomPv2', mass1=10., mass2=10.,\n",
    "                                            spin1z=0.99, spin2z=0.99, f_lower=20.)"
   ]
  },
  {
   "cell_type": "markdown",
   "id": "5d41a4be",
   "metadata": {},
   "source": [
    "**Since the trigger-time is near the merger time, using ~8s before and ~2s after sufficiently encompasses the longest waveform we might sample.**"
   ]
  },
  {
   "cell_type": "code",
   "execution_count": null,
   "id": "b4346ef7",
   "metadata": {},
   "outputs": [],
   "source": []
  },
  {
   "cell_type": "markdown",
   "id": "f21f9042",
   "metadata": {},
   "source": [
    "# Run it"
   ]
  },
  {
   "cell_type": "markdown",
   "id": "27b41330",
   "metadata": {},
   "source": [
    "**Before we can run, we need to download frame files from GWOSC. These contain the LIGO data that we will analyze.**"
   ]
  },
  {
   "cell_type": "code",
   "execution_count": 7,
   "id": "f73993ed",
   "metadata": {},
   "outputs": [
    {
     "name": "stdout",
     "output_type": "stream",
     "text": [
      "--2023-04-23 18:28:02--  https://gwosc.org/eventapi/html/GWTC-1-confident/GW150914/v3/H-H1_GWOSC_16KHZ_R1-1126259447-32.gwf\n",
      "Resolving gwosc.org (gwosc.org)... 131.215.113.73\n",
      "Connecting to gwosc.org (gwosc.org)|131.215.113.73|:443... connected.\n",
      "HTTP request sent, awaiting response... 200 OK\n",
      "Length: 4050875 (3.9M) [application/octet-stream]\n",
      "Saving to: ‘H-H1_GWOSC_16KHZ_R1-1126259447-32.gwf.1’\n",
      "\n",
      "H-H1_GWOSC_16KHZ_R1 100%[===================>]   3.86M  2.04MB/s    in 1.9s    \n",
      "\n",
      "2023-04-23 18:28:05 (2.04 MB/s) - ‘H-H1_GWOSC_16KHZ_R1-1126259447-32.gwf.1’ saved [4050875/4050875]\n",
      "\n",
      "--2023-04-23 18:28:05--  https://gwosc.org/eventapi/html/GWTC-1-confident/GW150914/v3/L-L1_GWOSC_16KHZ_R1-1126259447-32.gwf\n",
      "Resolving gwosc.org (gwosc.org)... 131.215.113.73\n",
      "Connecting to gwosc.org (gwosc.org)|131.215.113.73|:443... connected.\n",
      "HTTP request sent, awaiting response... 200 OK\n",
      "Length: 3900380 (3.7M) [application/octet-stream]\n",
      "Saving to: ‘L-L1_GWOSC_16KHZ_R1-1126259447-32.gwf.1’\n",
      "\n",
      "L-L1_GWOSC_16KHZ_R1 100%[===================>]   3.72M  1.58MB/s    in 2.4s    \n",
      "\n",
      "2023-04-23 18:28:08 (1.58 MB/s) - ‘L-L1_GWOSC_16KHZ_R1-1126259447-32.gwf.1’ saved [3900380/3900380]\n",
      "\n"
     ]
    }
   ],
   "source": [
    "if not os.path.exists('/home/nperla/Gravitational_Waves/code/Inference/Inference_4_Analyzing_a_gravitational_wave/H-H1_GWOSC_4KHZ_R1-1126257415-4096.gwf'):\n",
    "    !wget https://gwosc.org/eventapi/html/GWTC-1-confident/GW150914/v3/H-H1_GWOSC_16KHZ_R1-1126259447-32.gwf\n",
    "if not os.path.exists('/home/nperla/Gravitational_Waves/code/Inference/Inference_4_Analyzing_a_gravitational_wave/L-L1_GWOSC_4KHZ_R1-1126257415-4096.gwf'):\n",
    "    !wget https://gwosc.org/eventapi/html/GWTC-1-confident/GW150914/v3/L-L1_GWOSC_16KHZ_R1-1126259447-32.gwf"
   ]
  },
  {
   "cell_type": "markdown",
   "id": "5eddb0fe",
   "metadata": {},
   "source": [
    "**To run this example, we will just run the bash script. Running this example to completion will take several hours. Instead, we'll just run for a couple of checkpoints, kill it, then start it again to see how checkpointing works.**"
   ]
  },
  {
   "cell_type": "markdown",
   "id": "21a5b14d",
   "metadata": {},
   "source": [
    "**First, do the following:**"
   ]
  },
  {
   "cell_type": "markdown",
   "id": "dead2f1b",
   "metadata": {},
   "source": [
    "<li>Set the checkpoint interval in the config file to 4.</li>"
   ]
  },
  {
   "cell_type": "markdown",
   "id": "515ba933",
   "metadata": {},
   "source": [
    "**Now run the script. Watch the output. After it checkpoints (it will say \"Running sampler for 4 to 8 iterations\"), interrupt the kernel by hitting the stop button above.**"
   ]
  },
  {
   "cell_type": "code",
   "execution_count": 5,
   "id": "7261782b",
   "metadata": {},
   "outputs": [
    {
     "name": "stdout",
     "output_type": "stream",
     "text": [
      "2023-04-23T18:27:00.795-04:00 Using seed 1897234\n",
      "2023-04-23T18:27:00.796-04:00 Running with CPU support: 1 threads\n",
      "2023-04-23T18:27:00.867-04:00 Reading configuration file\n",
      "2023-04-23T18:27:00.870-04:00 Setting up model\n",
      "2023-04-23T18:27:00.872-04:00 Setting up priors for each parameter\n",
      "2023-04-23T18:27:00.874-04:00 Sampling in mchirp, q in place of mass1, mass2\n",
      "2023-04-23T18:27:00.874-04:00 Loading waveform transforms\n",
      "2023-04-23T18:27:00.878-04:00 Determining analysis times to use\n",
      "2023-04-23T18:27:00.878-04:00 Padding H1 analysis start and end times by 4 (= psd-inverse-length/2) seconds to account for PSD wrap around effects.\n",
      "2023-04-23T18:27:00.878-04:00 Padding L1 analysis start and end times by 4 (= psd-inverse-length/2) seconds to account for PSD wrap around effects.\n",
      "usage: pycbc_inference [-h] --instruments INSTRUMENTS [INSTRUMENTS ...]\n",
      "                       [--trigger-time TRIGGER_TIME] --analysis-start-time\n",
      "                       IFO:TIME [IFO:TIME ...] --analysis-end-time IFO:TIME\n",
      "                       [IFO:TIME ...]\n",
      "                       [--psd-start-time IFO:TIME [IFO:TIME ...]]\n",
      "                       [--psd-end-time IFO:TIME [IFO:TIME ...]]\n",
      "                       [--data-conditioning-low-freq IFO:FLOW [IFO:FLOW ...]]\n",
      "                       [--psd-model IFO:MODEL [IFO:MODEL ...]]\n",
      "                       [--psd-file IFO:FILE [IFO:FILE ...]]\n",
      "                       [--asd-file IFO:FILE [IFO:FILE ...]]\n",
      "                       [--psd-estimation IFO:FILE [IFO:FILE ...]]\n",
      "                       [--psd-segment-length IFO:LENGTH [IFO:LENGTH ...]]\n",
      "                       [--psd-segment-stride IFO:STRIDE [IFO:STRIDE ...]]\n",
      "                       [--psd-num-segments IFO:NUM [IFO:NUM ...]]\n",
      "                       [--psd-inverse-length IFO:LENGTH [IFO:LENGTH ...]]\n",
      "                       [--invpsd-trunc-method {hann}]\n",
      "                       [--psd-output IFO:FILE [IFO:FILE ...]]\n",
      "                       [--psdvar-segment SECONDS]\n",
      "                       [--psdvar-short-segment SECONDS]\n",
      "                       [--psdvar-long-segment SECONDS]\n",
      "                       [--psdvar-psd-duration SECONDS]\n",
      "                       [--psdvar-psd-stride SECONDS] [--psdvar-low-freq HERTZ]\n",
      "                       [--psdvar-high-freq HERTZ]\n",
      "                       [--strain-high-pass IFO:FREQUENCY [IFO:FREQUENCY ...]]\n",
      "                       [--strain-low-pass IFO:FREQUENCY [IFO:FREQUENCY ...]]\n",
      "                       [--pad-data IFO:LENGTH [IFO:LENGTH ...]]\n",
      "                       [--taper-data IFO:LENGTH [IFO:LENGTH ...]]\n",
      "                       [--sample-rate IFO:RATE [IFO:RATE ...]]\n",
      "                       [--channel-name IFO:CHANNEL [IFO:CHANNEL ...]]\n",
      "                       [--frame-cache IFO:FRAME_CACHE [IFO:FRAME_CACHE ...]]\n",
      "                       [--frame-files IFO:FRAME_FILES [IFO:FRAME_FILES ...]]\n",
      "                       [--hdf-store IFO:HDF_STORE_FILE [IFO:HDF_STORE_FILE ...]]\n",
      "                       [--frame-type IFO:FRAME_TYPE [IFO:FRAME_TYPE ...]]\n",
      "                       [--frame-sieve IFO:FRAME_SIEVE [IFO:FRAME_SIEVE ...]]\n",
      "                       [--fake-strain IFO:CHOICE [IFO:CHOICE ...]]\n",
      "                       [--fake-strain-seed IFO:SEED [IFO:SEED ...]]\n",
      "                       [--fake-strain-from-file IFO:FILE [IFO:FILE ...]]\n",
      "                       [--fake-strain-flow FAKE_STRAIN_FLOW [FAKE_STRAIN_FLOW ...]]\n",
      "                       [--fake-strain-filter-duration FAKE_STRAIN_FILTER_DURATION [FAKE_STRAIN_FILTER_DURATION ...]]\n",
      "                       [--fake-strain-sample-rate FAKE_STRAIN_SAMPLE_RATE [FAKE_STRAIN_SAMPLE_RATE ...]]\n",
      "                       [--injection-file IFO:FILE [IFO:FILE ...]]\n",
      "                       [--sgburst-injection-file IFO:FILE [IFO:FILE ...]]\n",
      "                       [--injection-scale-factor IFO:VAL [IFO:VAL ...]]\n",
      "                       [--injection-sample-rate IFO:VAL [IFO:VAL ...]]\n",
      "                       [--injection-f-ref IFO:VALUE [IFO:VALUE ...]]\n",
      "                       [--injection-f-final IFO:VALUE [IFO:VALUE ...]]\n",
      "                       [--gating-file IFO:FILE [IFO:FILE ...]]\n",
      "                       [--autogating-threshold IFO:SIGMA [IFO:SIGMA ...]]\n",
      "                       [--autogating-max-iterations SIGMA]\n",
      "                       [--autogating-cluster IFO:SECONDS [IFO:SECONDS ...]]\n",
      "                       [--autogating-width IFO:SECONDS [IFO:SECONDS ...]]\n",
      "                       [--autogating-taper IFO:SECONDS [IFO:SECONDS ...]]\n",
      "                       [--autogating-pad IFO:SECONDS [IFO:SECONDS ...]]\n",
      "                       [--gating-method {hard,taper,paint} [{hard,taper,paint} ...]]\n",
      "                       [--normalize-strain IFO:VALUE [IFO:VALUE ...]]\n",
      "                       [--zpk-z IFO:VALUE [IFO:VALUE ...]]\n",
      "                       [--zpk-p IFO:VALUE [IFO:VALUE ...]]\n",
      "                       [--zpk-k IFO:VALUE [IFO:VALUE ...]]\n",
      "                       [--gate IFO:CENTRALTIME:HALFDUR:TAPERDUR [IFO:CENTRALTIME:HALFDUR:TAPERDUR ...]]\n",
      "                       [--gate-overwhitened]\n",
      "                       [--psd-gate IFO:CENTRALTIME:HALFDUR:TAPERDUR [IFO:CENTRALTIME:HALFDUR:TAPERDUR ...]]\n",
      "                       [--dq-segment-name DQ_SEGMENT_NAME]\n",
      "                       [--dq-source {any,GWOSC,dqsegdb}]\n",
      "                       [--dq-server DQ_SERVER] [--veto-definer VETO_DEFINER]\n",
      "pycbc_inference: error: you must supply one of the following --frame-cache, --fake-strain, --fake-strain-from-file, --frame-files, --frame-type, --hdf-store\n"
     ]
    }
   ],
   "source": [
    "!bash run.sh"
   ]
  },
  {
   "cell_type": "code",
   "execution_count": null,
   "id": "2404cbe3",
   "metadata": {},
   "outputs": [],
   "source": []
  },
  {
   "cell_type": "code",
   "execution_count": null,
   "id": "85e03cc6",
   "metadata": {},
   "outputs": [],
   "source": []
  },
  {
   "cell_type": "code",
   "execution_count": null,
   "id": "c457ff61",
   "metadata": {},
   "outputs": [],
   "source": []
  }
 ],
 "metadata": {
  "kernelspec": {
   "display_name": "Python 3 (ipykernel)",
   "language": "python",
   "name": "python3"
  },
  "language_info": {
   "codemirror_mode": {
    "name": "ipython",
    "version": 3
   },
   "file_extension": ".py",
   "mimetype": "text/x-python",
   "name": "python",
   "nbconvert_exporter": "python",
   "pygments_lexer": "ipython3",
   "version": "3.9.13"
  },
  "toc": {
   "base_numbering": 1,
   "nav_menu": {},
   "number_sections": true,
   "sideBar": true,
   "skip_h1_title": false,
   "title_cell": "Table of Contents",
   "title_sidebar": "Contents",
   "toc_cell": false,
   "toc_position": {},
   "toc_section_display": true,
   "toc_window_display": false
  },
  "varInspector": {
   "cols": {
    "lenName": 16,
    "lenType": 16,
    "lenVar": 40
   },
   "kernels_config": {
    "python": {
     "delete_cmd_postfix": "",
     "delete_cmd_prefix": "del ",
     "library": "var_list.py",
     "varRefreshCmd": "print(var_dic_list())"
    },
    "r": {
     "delete_cmd_postfix": ") ",
     "delete_cmd_prefix": "rm(",
     "library": "var_list.r",
     "varRefreshCmd": "cat(var_dic_list()) "
    }
   },
   "types_to_exclude": [
    "module",
    "function",
    "builtin_function_or_method",
    "instance",
    "_Feature"
   ],
   "window_display": false
  }
 },
 "nbformat": 4,
 "nbformat_minor": 5
}
